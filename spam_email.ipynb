{
  "nbformat": 4,
  "nbformat_minor": 0,
  "metadata": {
    "colab": {
      "name": "spam email.ipynb",
      "provenance": [],
      "collapsed_sections": []
    },
    "kernelspec": {
      "name": "python3",
      "display_name": "Python 3"
    },
    "language_info": {
      "name": "python"
    }
  },
  "cells": [
    {
      "cell_type": "code",
      "metadata": {
        "id": "I2zFn4h4J2OQ"
      },
      "source": [
        "import pandas as pd\n",
        "import numpy as np\n",
        "import matplotlib.pyplot as plt\n",
        "import seaborn as sns\n",
        "%matplotlib inline"
      ],
      "execution_count": 47,
      "outputs": []
    },
    {
      "cell_type": "code",
      "metadata": {
        "colab": {
          "base_uri": "https://localhost:8080/",
          "height": 359
        },
        "id": "Ow3eizvhSIW2",
        "outputId": "7ec5a4a8-1602-4557-b8ce-30203f0a09d3"
      },
      "source": [
        "df = pd.read_csv('emails.csv')\n",
        "df.sample(10)"
      ],
      "execution_count": 48,
      "outputs": [
        {
          "output_type": "execute_result",
          "data": {
            "text/html": [
              "<div>\n",
              "<style scoped>\n",
              "    .dataframe tbody tr th:only-of-type {\n",
              "        vertical-align: middle;\n",
              "    }\n",
              "\n",
              "    .dataframe tbody tr th {\n",
              "        vertical-align: top;\n",
              "    }\n",
              "\n",
              "    .dataframe thead th {\n",
              "        text-align: right;\n",
              "    }\n",
              "</style>\n",
              "<table border=\"1\" class=\"dataframe\">\n",
              "  <thead>\n",
              "    <tr style=\"text-align: right;\">\n",
              "      <th></th>\n",
              "      <th>text</th>\n",
              "      <th>spam</th>\n",
              "    </tr>\n",
              "  </thead>\n",
              "  <tbody>\n",
              "    <tr>\n",
              "      <th>1902</th>\n",
              "      <td>Subject: mix , rip and burn like a pro . downl...</td>\n",
              "      <td>1</td>\n",
              "    </tr>\n",
              "    <tr>\n",
              "      <th>228</th>\n",
              "      <td>Subject: congratulations  the free lotto compa...</td>\n",
              "      <td>1</td>\n",
              "    </tr>\n",
              "    <tr>\n",
              "      <th>1272</th>\n",
              "      <td>Subject: cme and catex  - - - - - - - - - - - ...</td>\n",
              "      <td>0</td>\n",
              "    </tr>\n",
              "    <tr>\n",
              "      <th>5959</th>\n",
              "      <td>Subject: re : molecular electronics corp . wor...</td>\n",
              "      <td>0</td>\n",
              "    </tr>\n",
              "    <tr>\n",
              "      <th>1109</th>\n",
              "      <td>Subject: course outlines  jeff ,  i am sending...</td>\n",
              "      <td>0</td>\n",
              "    </tr>\n",
              "    <tr>\n",
              "      <th>5604</th>\n",
              "      <td>Subject: re : alpbacher finanzsymposium 2000 -...</td>\n",
              "      <td>0</td>\n",
              "    </tr>\n",
              "    <tr>\n",
              "      <th>980</th>\n",
              "      <td>Subject: mba career opportunity  shirley ,  pl...</td>\n",
              "      <td>0</td>\n",
              "    </tr>\n",
              "    <tr>\n",
              "      <th>6127</th>\n",
              "      <td>Subject: weather course  vince ,  ?  we just w...</td>\n",
              "      <td>0</td>\n",
              "    </tr>\n",
              "    <tr>\n",
              "      <th>5420</th>\n",
              "      <td>Subject: re : sharad update  hi kate ,  firstl...</td>\n",
              "      <td>0</td>\n",
              "    </tr>\n",
              "    <tr>\n",
              "      <th>5136</th>\n",
              "      <td>Subject: re : d - g energy  laine ,  i can ini...</td>\n",
              "      <td>0</td>\n",
              "    </tr>\n",
              "  </tbody>\n",
              "</table>\n",
              "</div>"
            ],
            "text/plain": [
              "                                                   text  spam\n",
              "1902  Subject: mix , rip and burn like a pro . downl...     1\n",
              "228   Subject: congratulations  the free lotto compa...     1\n",
              "1272  Subject: cme and catex  - - - - - - - - - - - ...     0\n",
              "5959  Subject: re : molecular electronics corp . wor...     0\n",
              "1109  Subject: course outlines  jeff ,  i am sending...     0\n",
              "5604  Subject: re : alpbacher finanzsymposium 2000 -...     0\n",
              "980   Subject: mba career opportunity  shirley ,  pl...     0\n",
              "6127  Subject: weather course  vince ,  ?  we just w...     0\n",
              "5420  Subject: re : sharad update  hi kate ,  firstl...     0\n",
              "5136  Subject: re : d - g energy  laine ,  i can ini...     0"
            ]
          },
          "metadata": {
            "tags": []
          },
          "execution_count": 48
        }
      ]
    },
    {
      "cell_type": "markdown",
      "metadata": {
        "id": "IVOEasHGKqBA"
      },
      "source": [
        "**Exploring Dataset**"
      ]
    },
    {
      "cell_type": "code",
      "metadata": {
        "colab": {
          "base_uri": "https://localhost:8080/"
        },
        "id": "o7UWU5buSplG",
        "outputId": "6e12f38f-5816-43e7-d390-c50eea57784c"
      },
      "source": [
        "df.info()"
      ],
      "execution_count": 49,
      "outputs": [
        {
          "output_type": "stream",
          "text": [
            "<class 'pandas.core.frame.DataFrame'>\n",
            "RangeIndex: 6378 entries, 0 to 6377\n",
            "Data columns (total 2 columns):\n",
            " #   Column  Non-Null Count  Dtype \n",
            "---  ------  --------------  ----- \n",
            " 0   text    6378 non-null   object\n",
            " 1   spam    6378 non-null   int64 \n",
            "dtypes: int64(1), object(1)\n",
            "memory usage: 99.8+ KB\n"
          ],
          "name": "stdout"
        }
      ]
    },
    {
      "cell_type": "code",
      "metadata": {
        "colab": {
          "base_uri": "https://localhost:8080/",
          "height": 419
        },
        "id": "b0Qqa-hmSpcz",
        "outputId": "2bb874d5-3a43-472e-951a-01d912d57607"
      },
      "source": [
        "ham = df[df['spam']==0]\n",
        "ham"
      ],
      "execution_count": 50,
      "outputs": [
        {
          "output_type": "execute_result",
          "data": {
            "text/html": [
              "<div>\n",
              "<style scoped>\n",
              "    .dataframe tbody tr th:only-of-type {\n",
              "        vertical-align: middle;\n",
              "    }\n",
              "\n",
              "    .dataframe tbody tr th {\n",
              "        vertical-align: top;\n",
              "    }\n",
              "\n",
              "    .dataframe thead th {\n",
              "        text-align: right;\n",
              "    }\n",
              "</style>\n",
              "<table border=\"1\" class=\"dataframe\">\n",
              "  <thead>\n",
              "    <tr style=\"text-align: right;\">\n",
              "      <th></th>\n",
              "      <th>text</th>\n",
              "      <th>spam</th>\n",
              "    </tr>\n",
              "  </thead>\n",
              "  <tbody>\n",
              "    <tr>\n",
              "      <th>822</th>\n",
              "      <td>Subject: give your pc a tune - up with system ...</td>\n",
              "      <td>0</td>\n",
              "    </tr>\n",
              "    <tr>\n",
              "      <th>823</th>\n",
              "      <td>Subject: re : storage model : simple issues  b...</td>\n",
              "      <td>0</td>\n",
              "    </tr>\n",
              "    <tr>\n",
              "      <th>824</th>\n",
              "      <td>Subject: credit support value for mg and paper...</td>\n",
              "      <td>0</td>\n",
              "    </tr>\n",
              "    <tr>\n",
              "      <th>825</th>\n",
              "      <td>Subject: energy finance critiques  david ,  he...</td>\n",
              "      <td>0</td>\n",
              "    </tr>\n",
              "    <tr>\n",
              "      <th>826</th>\n",
              "      <td>Subject: technical analysis  more fallout  - -...</td>\n",
              "      <td>0</td>\n",
              "    </tr>\n",
              "    <tr>\n",
              "      <th>...</th>\n",
              "      <td>...</td>\n",
              "      <td>...</td>\n",
              "    </tr>\n",
              "    <tr>\n",
              "      <th>6373</th>\n",
              "      <td>Subject: re : research and development charges...</td>\n",
              "      <td>0</td>\n",
              "    </tr>\n",
              "    <tr>\n",
              "      <th>6374</th>\n",
              "      <td>Subject: re : receipts from visit  jim ,  than...</td>\n",
              "      <td>0</td>\n",
              "    </tr>\n",
              "    <tr>\n",
              "      <th>6375</th>\n",
              "      <td>Subject: re : enron case study update  wow ! a...</td>\n",
              "      <td>0</td>\n",
              "    </tr>\n",
              "    <tr>\n",
              "      <th>6376</th>\n",
              "      <td>Subject: re : interest  david ,  please , call...</td>\n",
              "      <td>0</td>\n",
              "    </tr>\n",
              "    <tr>\n",
              "      <th>6377</th>\n",
              "      <td>Subject: news : aurora 5 . 2 update  aurora ve...</td>\n",
              "      <td>0</td>\n",
              "    </tr>\n",
              "  </tbody>\n",
              "</table>\n",
              "<p>5010 rows × 2 columns</p>\n",
              "</div>"
            ],
            "text/plain": [
              "                                                   text  spam\n",
              "822   Subject: give your pc a tune - up with system ...     0\n",
              "823   Subject: re : storage model : simple issues  b...     0\n",
              "824   Subject: credit support value for mg and paper...     0\n",
              "825   Subject: energy finance critiques  david ,  he...     0\n",
              "826   Subject: technical analysis  more fallout  - -...     0\n",
              "...                                                 ...   ...\n",
              "6373  Subject: re : research and development charges...     0\n",
              "6374  Subject: re : receipts from visit  jim ,  than...     0\n",
              "6375  Subject: re : enron case study update  wow ! a...     0\n",
              "6376  Subject: re : interest  david ,  please , call...     0\n",
              "6377  Subject: news : aurora 5 . 2 update  aurora ve...     0\n",
              "\n",
              "[5010 rows x 2 columns]"
            ]
          },
          "metadata": {
            "tags": []
          },
          "execution_count": 50
        }
      ]
    },
    {
      "cell_type": "code",
      "metadata": {
        "colab": {
          "base_uri": "https://localhost:8080/",
          "height": 419
        },
        "id": "00OWBQwxTj3s",
        "outputId": "3d23cda7-776b-4276-c3d2-e8be46058938"
      },
      "source": [
        "spam = df[df['spam']==1]\n",
        "spam"
      ],
      "execution_count": 51,
      "outputs": [
        {
          "output_type": "execute_result",
          "data": {
            "text/html": [
              "<div>\n",
              "<style scoped>\n",
              "    .dataframe tbody tr th:only-of-type {\n",
              "        vertical-align: middle;\n",
              "    }\n",
              "\n",
              "    .dataframe tbody tr th {\n",
              "        vertical-align: top;\n",
              "    }\n",
              "\n",
              "    .dataframe thead th {\n",
              "        text-align: right;\n",
              "    }\n",
              "</style>\n",
              "<table border=\"1\" class=\"dataframe\">\n",
              "  <thead>\n",
              "    <tr style=\"text-align: right;\">\n",
              "      <th></th>\n",
              "      <th>text</th>\n",
              "      <th>spam</th>\n",
              "    </tr>\n",
              "  </thead>\n",
              "  <tbody>\n",
              "    <tr>\n",
              "      <th>0</th>\n",
              "      <td>Subject: naturally irresistible your corporate...</td>\n",
              "      <td>1</td>\n",
              "    </tr>\n",
              "    <tr>\n",
              "      <th>1</th>\n",
              "      <td>Subject: the stock trading gunslinger  fanny i...</td>\n",
              "      <td>1</td>\n",
              "    </tr>\n",
              "    <tr>\n",
              "      <th>2</th>\n",
              "      <td>Subject: unbelievable new homes made easy  im ...</td>\n",
              "      <td>1</td>\n",
              "    </tr>\n",
              "    <tr>\n",
              "      <th>3</th>\n",
              "      <td>Subject: 4 color printing special  request add...</td>\n",
              "      <td>1</td>\n",
              "    </tr>\n",
              "    <tr>\n",
              "      <th>4</th>\n",
              "      <td>Subject: do not have money , get software cds ...</td>\n",
              "      <td>1</td>\n",
              "    </tr>\n",
              "    <tr>\n",
              "      <th>...</th>\n",
              "      <td>...</td>\n",
              "      <td>...</td>\n",
              "    </tr>\n",
              "    <tr>\n",
              "      <th>2013</th>\n",
              "      <td>Subject: are you ready to get it ?  hello !  v...</td>\n",
              "      <td>1</td>\n",
              "    </tr>\n",
              "    <tr>\n",
              "      <th>2014</th>\n",
              "      <td>Subject: would you like a $ 250 gas card ?  do...</td>\n",
              "      <td>1</td>\n",
              "    </tr>\n",
              "    <tr>\n",
              "      <th>2015</th>\n",
              "      <td>Subject: immediate reply needed  dear sir ,  i...</td>\n",
              "      <td>1</td>\n",
              "    </tr>\n",
              "    <tr>\n",
              "      <th>2016</th>\n",
              "      <td>Subject: wanna see me get fisted ?  fist  bang...</td>\n",
              "      <td>1</td>\n",
              "    </tr>\n",
              "    <tr>\n",
              "      <th>2017</th>\n",
              "      <td>Subject: hot stock info : drgv announces anoth...</td>\n",
              "      <td>1</td>\n",
              "    </tr>\n",
              "  </tbody>\n",
              "</table>\n",
              "<p>1368 rows × 2 columns</p>\n",
              "</div>"
            ],
            "text/plain": [
              "                                                   text  spam\n",
              "0     Subject: naturally irresistible your corporate...     1\n",
              "1     Subject: the stock trading gunslinger  fanny i...     1\n",
              "2     Subject: unbelievable new homes made easy  im ...     1\n",
              "3     Subject: 4 color printing special  request add...     1\n",
              "4     Subject: do not have money , get software cds ...     1\n",
              "...                                                 ...   ...\n",
              "2013  Subject: are you ready to get it ?  hello !  v...     1\n",
              "2014  Subject: would you like a $ 250 gas card ?  do...     1\n",
              "2015  Subject: immediate reply needed  dear sir ,  i...     1\n",
              "2016  Subject: wanna see me get fisted ?  fist  bang...     1\n",
              "2017  Subject: hot stock info : drgv announces anoth...     1\n",
              "\n",
              "[1368 rows x 2 columns]"
            ]
          },
          "metadata": {
            "tags": []
          },
          "execution_count": 51
        }
      ]
    },
    {
      "cell_type": "code",
      "metadata": {
        "colab": {
          "base_uri": "https://localhost:8080/",
          "height": 350
        },
        "id": "Q5tlmFB3Tjwx",
        "outputId": "a81be6ec-55ac-4997-eb68-1258b44d936d"
      },
      "source": [
        "sns.countplot(df['spam'])"
      ],
      "execution_count": 52,
      "outputs": [
        {
          "output_type": "stream",
          "text": [
            "/usr/local/lib/python3.7/dist-packages/seaborn/_decorators.py:43: FutureWarning: Pass the following variable as a keyword arg: x. From version 0.12, the only valid positional argument will be `data`, and passing other arguments without an explicit keyword will result in an error or misinterpretation.\n",
            "  FutureWarning\n"
          ],
          "name": "stderr"
        },
        {
          "output_type": "execute_result",
          "data": {
            "text/plain": [
              "<matplotlib.axes._subplots.AxesSubplot at 0x7f76870ca150>"
            ]
          },
          "metadata": {
            "tags": []
          },
          "execution_count": 52
        },
        {
          "output_type": "display_data",
          "data": {
            "image/png": "[encoded data removed]",
            "text/plain": [
              "<Figure size 432x288 with 1 Axes>"
            ]
          },
          "metadata": {
            "tags": [],
            "needs_background": "light"
          }
        }
      ]
    },
    {
      "cell_type": "markdown",
      "metadata": {
        "id": "Mi2tB_PBVaV4"
      },
      "source": [
        "- `CountVectorizer Example`\n"
      ]
    },
    {
      "cell_type": "code",
      "metadata": {
        "colab": {
          "base_uri": "https://localhost:8080/"
        },
        "id": "OnqpOXu8TjuD",
        "outputId": "507d5b8b-4ba4-42c0-e187-fee99caf677c"
      },
      "source": [
        "from sklearn.feature_extraction.text import CountVectorizer\n",
        "vect = CountVectorizer()\n",
        "\n",
        "sample = ['This is the first document.','This document is the second document','And this is the third document.']\n",
        "\n",
        "vect.fit(sample)"
      ],
      "execution_count": 53,
      "outputs": [
        {
          "output_type": "execute_result",
          "data": {
            "text/plain": [
              "CountVectorizer(analyzer='word', binary=False, decode_error='strict',\n",
              "                dtype=<class 'numpy.int64'>, encoding='utf-8', input='content',\n",
              "                lowercase=True, max_df=1.0, max_features=None, min_df=1,\n",
              "                ngram_range=(1, 1), preprocessor=None, stop_words=None,\n",
              "                strip_accents=None, token_pattern='(?u)\\\\b\\\\w\\\\w+\\\\b',\n",
              "                tokenizer=None, vocabulary=None)"
            ]
          },
          "metadata": {
            "tags": []
          },
          "execution_count": 53
        }
      ]
    },
    {
      "cell_type": "code",
      "metadata": {
        "colab": {
          "base_uri": "https://localhost:8080/"
        },
        "id": "Xe82UwUZUi9s",
        "outputId": "c61ade1a-13cc-4f02-9418-7a9d4684ac3d"
      },
      "source": [
        "vect.vocabulary_"
      ],
      "execution_count": 54,
      "outputs": [
        {
          "output_type": "execute_result",
          "data": {
            "text/plain": [
              "{'and': 0,\n",
              " 'document': 1,\n",
              " 'first': 2,\n",
              " 'is': 3,\n",
              " 'second': 4,\n",
              " 'the': 5,\n",
              " 'third': 6,\n",
              " 'this': 7}"
            ]
          },
          "metadata": {
            "tags": []
          },
          "execution_count": 54
        }
      ]
    },
    {
      "cell_type": "code",
      "metadata": {
        "colab": {
          "base_uri": "https://localhost:8080/"
        },
        "id": "PuinaylQUi6d",
        "outputId": "d595ddb5-72dd-4108-c928-5734df6585d2"
      },
      "source": [
        "vect.get_feature_names()"
      ],
      "execution_count": 55,
      "outputs": [
        {
          "output_type": "execute_result",
          "data": {
            "text/plain": [
              "['and', 'document', 'first', 'is', 'second', 'the', 'third', 'this']"
            ]
          },
          "metadata": {
            "tags": []
          },
          "execution_count": 55
        }
      ]
    },
    {
      "cell_type": "code",
      "metadata": {
        "id": "iYPJGU4-TjrL"
      },
      "source": [
        "sample = vect.transform(sample)"
      ],
      "execution_count": 56,
      "outputs": []
    },
    {
      "cell_type": "code",
      "metadata": {
        "colab": {
          "base_uri": "https://localhost:8080/"
        },
        "id": "7aktfEwvW9xA",
        "outputId": "ac74dc58-7a36-4809-e9d8-5a661700b94c"
      },
      "source": [
        "sample.toarray()"
      ],
      "execution_count": 57,
      "outputs": [
        {
          "output_type": "execute_result",
          "data": {
            "text/plain": [
              "array([[0, 1, 1, 1, 0, 1, 0, 1],\n",
              "       [0, 2, 0, 1, 1, 1, 0, 1],\n",
              "       [1, 1, 0, 1, 0, 1, 1, 1]])"
            ]
          },
          "metadata": {
            "tags": []
          },
          "execution_count": 57
        }
      ]
    },
    {
      "cell_type": "markdown",
      "metadata": {
        "id": "1pqgY4yLXGjS"
      },
      "source": [
        "**Data Preprocessing**"
      ]
    },
    {
      "cell_type": "code",
      "metadata": {
        "id": "_LEfBo1EXJIX"
      },
      "source": [
        "from sklearn.feature_extraction.text import CountVectorizer\n",
        "vectorizer = CountVectorizer()\n",
        "spam_countvectorizer = vectorizer.fit_transform(df['text'])"
      ],
      "execution_count": 58,
      "outputs": []
    },
    {
      "cell_type": "code",
      "metadata": {
        "colab": {
          "base_uri": "https://localhost:8080/"
        },
        "id": "PC-QZHMZmlvC",
        "outputId": "3b34d001-83d9-4283-e876-2fe218a9f8b4"
      },
      "source": [
        "type(spam_countvectorizer)"
      ],
      "execution_count": 59,
      "outputs": [
        {
          "output_type": "execute_result",
          "data": {
            "text/plain": [
              "scipy.sparse.csr.csr_matrix"
            ]
          },
          "metadata": {
            "tags": []
          },
          "execution_count": 59
        }
      ]
    },
    {
      "cell_type": "code",
      "metadata": {
        "colab": {
          "base_uri": "https://localhost:8080/"
        },
        "id": "DzAIPAVFmwf0",
        "outputId": "db1fa1ed-7d7d-4a5c-d25a-103a2e34a3c6"
      },
      "source": [
        "spam_countvectorizer.toarray()"
      ],
      "execution_count": 60,
      "outputs": [
        {
          "output_type": "execute_result",
          "data": {
            "text/plain": [
              "array([[0, 0, 0, ..., 0, 0, 0],\n",
              "       [0, 0, 0, ..., 0, 0, 0],\n",
              "       [0, 0, 0, ..., 0, 0, 0],\n",
              "       ...,\n",
              "       [4, 0, 0, ..., 0, 0, 0],\n",
              "       [0, 0, 0, ..., 0, 0, 0],\n",
              "       [0, 0, 0, ..., 0, 0, 0]])"
            ]
          },
          "metadata": {
            "tags": []
          },
          "execution_count": 60
        }
      ]
    },
    {
      "cell_type": "code",
      "metadata": {
        "colab": {
          "base_uri": "https://localhost:8080/"
        },
        "id": "ZuRqArG0X5Tc",
        "outputId": "5fce1cc1-56c5-442f-b068-4f52bf58be32"
      },
      "source": [
        "spam_countvectorizer.shape"
      ],
      "execution_count": 61,
      "outputs": [
        {
          "output_type": "execute_result",
          "data": {
            "text/plain": [
              "(6378, 37305)"
            ]
          },
          "metadata": {
            "tags": []
          },
          "execution_count": 61
        }
      ]
    },
    {
      "cell_type": "code",
      "metadata": {
        "colab": {
          "base_uri": "https://localhost:8080/"
        },
        "id": "H_xDjiEAlkDN",
        "outputId": "de67263e-4e6e-4ddb-f10a-17ea12859db9"
      },
      "source": [
        "vectorizer.vocabulary_"
      ],
      "execution_count": 62,
      "outputs": [
        {
          "output_type": "execute_result",
          "data": {
            "text/plain": [
              "{'subject': 32373,\n",
              " 'naturally': 23382,\n",
              " 'irresistible': 18839,\n",
              " 'your': 37026,\n",
              " 'corporate': 10046,\n",
              " 'identity': 17689,\n",
              " 'lt': 21149,\n",
              " 'is': 18849,\n",
              " 'really': 28020,\n",
              " 'hard': 16656,\n",
              " 'to': 33800,\n",
              " 'recollect': 28144,\n",
              " 'company': 9282,\n",
              " 'the': 33452,\n",
              " 'market': 21666,\n",
              " 'full': 15416,\n",
              " 'of': 24275,\n",
              " 'suqgestions': 32637,\n",
              " 'and': 4837,\n",
              " 'information': 18235,\n",
              " 'isoverwhelminq': 18886,\n",
              " 'but': 7547,\n",
              " 'good': 16073,\n",
              " 'catchy': 8044,\n",
              " 'logo': 20961,\n",
              " 'stylish': 32354,\n",
              " 'statlonery': 32003,\n",
              " 'outstanding': 24872,\n",
              " 'website': 36082,\n",
              " 'will': 36375,\n",
              " 'make': 21441,\n",
              " 'task': 33070,\n",
              " 'much': 23053,\n",
              " 'easier': 12611,\n",
              " 'we': 36021,\n",
              " 'do': 12049,\n",
              " 'not': 23938,\n",
              " 'promise': 27137,\n",
              " 'that': 33443,\n",
              " 'havinq': 16766,\n",
              " 'ordered': 24633,\n",
              " 'iogo': 18760,\n",
              " 'automaticaily': 5773,\n",
              " 'become': 6297,\n",
              " 'world': 36635,\n",
              " 'ieader': 17707,\n",
              " 'it': 18914,\n",
              " 'isguite': 18864,\n",
              " 'ciear': 8652,\n",
              " 'without': 36501,\n",
              " 'products': 27035,\n",
              " 'effective': 12814,\n",
              " 'business': 7530,\n",
              " 'organization': 24671,\n",
              " 'practicable': 26621,\n",
              " 'aim': 4346,\n",
              " 'be': 6250,\n",
              " 'hotat': 17364,\n",
              " 'nowadays': 23996,\n",
              " 'marketing': 21674,\n",
              " 'efforts': 12831,\n",
              " 'more': 22862,\n",
              " 'here': 16987,\n",
              " 'list': 20805,\n",
              " 'clear': 8827,\n",
              " 'benefits': 6431,\n",
              " 'creativeness': 10283,\n",
              " 'hand': 16580,\n",
              " 'made': 21306,\n",
              " 'original': 24696,\n",
              " 'logos': 20964,\n",
              " 'specially': 31583,\n",
              " 'done': 12152,\n",
              " 'reflect': 28300,\n",
              " 'distinctive': 11933,\n",
              " 'image': 17813,\n",
              " 'convenience': 9897,\n",
              " 'stationery': 31994,\n",
              " 'are': 5275,\n",
              " 'provided': 27260,\n",
              " 'in': 17968,\n",
              " 'all': 4519,\n",
              " 'formats': 15086,\n",
              " 'easy': 12624,\n",
              " 'use': 35087,\n",
              " 'content': 9803,\n",
              " 'management': 21497,\n",
              " 'system': 32878,\n",
              " 'letsyou': 20554,\n",
              " 'change': 8333,\n",
              " 'even': 13832,\n",
              " 'its': 18943,\n",
              " 'structure': 32298,\n",
              " 'promptness': 27157,\n",
              " 'you': 37013,\n",
              " 'see': 30254,\n",
              " 'drafts': 12276,\n",
              " 'within': 36499,\n",
              " 'three': 33607,\n",
              " 'days': 10840,\n",
              " 'affordability': 4210,\n",
              " 'break': 7159,\n",
              " 'through': 33618,\n",
              " 'shouldn': 30805,\n",
              " 'gaps': 15570,\n",
              " 'budget': 7398,\n",
              " '100': 343,\n",
              " 'satisfaction': 29894,\n",
              " 'guaranteed': 16381,\n",
              " 'provide': 27259,\n",
              " 'unlimited': 34851,\n",
              " 'amount': 4757,\n",
              " 'changes': 8336,\n",
              " 'with': 36489,\n",
              " 'no': 23797,\n",
              " 'extra': 14183,\n",
              " 'fees': 14515,\n",
              " 'for': 15010,\n",
              " 'surethat': 32652,\n",
              " 'love': 21097,\n",
              " 'result': 28913,\n",
              " 'this': 33559,\n",
              " 'collaboration': 9074,\n",
              " 'have': 16758,\n",
              " 'look': 21008,\n",
              " 'at': 5568,\n",
              " 'our': 24801,\n",
              " 'portfolio': 26415,\n",
              " 'interested': 18541,\n",
              " 'stock': 32133,\n",
              " 'trading': 34052,\n",
              " 'gunslinger': 16441,\n",
              " 'fanny': 14345,\n",
              " 'merrill': 22236,\n",
              " 'muzo': 23178,\n",
              " 'colza': 9150,\n",
              " 'attainder': 5630,\n",
              " 'penultimate': 25559,\n",
              " 'like': 20706,\n",
              " 'esmark': 13672,\n",
              " 'perspicuous': 25687,\n",
              " 'ramble': 27804,\n",
              " 'segovia': 30284,\n",
              " 'group': 16322,\n",
              " 'try': 34317,\n",
              " 'slung': 31201,\n",
              " 'kansas': 19550,\n",
              " 'tanzania': 33035,\n",
              " 'yes': 36961,\n",
              " 'chameleon': 8317,\n",
              " 'or': 24619,\n",
              " 'continuant': 9827,\n",
              " 'clothesman': 8911,\n",
              " 'libretto': 20647,\n",
              " 'chesapeake': 8483,\n",
              " 'tight': 33686,\n",
              " 'waterway': 35983,\n",
              " 'herald': 16977,\n",
              " 'hawthorn': 16772,\n",
              " 'chisel': 8539,\n",
              " 'morristown': 22888,\n",
              " 'superior': 32583,\n",
              " 'deoxyribonucleic': 11234,\n",
              " 'clockwork': 8892,\n",
              " 'hall': 16545,\n",
              " 'incredible': 18054,\n",
              " 'mcdougall': 21929,\n",
              " 'hepburn': 16975,\n",
              " 'einsteinian': 12890,\n",
              " 'earmark': 12587,\n",
              " 'sapling': 29864,\n",
              " 'boar': 6851,\n",
              " 'duane': 12410,\n",
              " 'plain': 26082,\n",
              " 'palfrey': 25103,\n",
              " 'inflexible': 18205,\n",
              " 'huzzah': 17552,\n",
              " 'pepperoni': 25574,\n",
              " 'bedtime': 6311,\n",
              " 'nameable': 23284,\n",
              " 'attire': 5652,\n",
              " 'edt': 12765,\n",
              " 'chronography': 8614,\n",
              " 'optima': 24584,\n",
              " 'pirogue': 26015,\n",
              " 'diffusion': 11614,\n",
              " 'albeit': 4438,\n",
              " 'unbelievable': 34628,\n",
              " 'new': 23609,\n",
              " 'homes': 17265,\n",
              " 'im': 17812,\n",
              " 'wanting': 35896,\n",
              " 'show': 30811,\n",
              " 'homeowner': 17260,\n",
              " 'been': 6318,\n",
              " 'pre': 26668,\n",
              " 'approved': 5189,\n",
              " '454': 1958,\n",
              " '169': 699,\n",
              " 'home': 17251,\n",
              " 'loan': 20906,\n",
              " '72': 2801,\n",
              " 'fixed': 14816,\n",
              " 'rate': 27877,\n",
              " 'offer': 24283,\n",
              " 'being': 6359,\n",
              " 'extended': 14168,\n",
              " 'unconditionally': 34657,\n",
              " 'credit': 10292,\n",
              " 'way': 35998,\n",
              " 'factor': 14261,\n",
              " 'take': 32967,\n",
              " 'advantage': 4117,\n",
              " 'limited': 20730,\n",
              " 'time': 33702,\n",
              " 'opportunity': 24559,\n",
              " 'ask': 5445,\n",
              " 'visit': 35636,\n",
              " 'complete': 9346,\n",
              " 'minute': 22541,\n",
              " 'post': 26465,\n",
              " 'approval': 5185,\n",
              " 'form': 15070,\n",
              " 'foward': 15175,\n",
              " 'hearing': 16843,\n",
              " 'from': 15335,\n",
              " 'dorcas': 12181,\n",
              " 'pittman': 26039,\n",
              " 'color': 9130,\n",
              " 'printing': 26917,\n",
              " 'special': 31571,\n",
              " 'request': 28733,\n",
              " 'additional': 3963,\n",
              " 'now': 23994,\n",
              " 'click': 8853,\n",
              " 'printable': 26912,\n",
              " 'version': 35441,\n",
              " 'order': 24632,\n",
              " 'pdf': 25455,\n",
              " 'format': 15083,\n",
              " 'phone': 25860,\n",
              " '626': 2527,\n",
              " '338': 1520,\n",
              " '8090': 3075,\n",
              " 'fax': 14436,\n",
              " '8102': 3081,\n",
              " 'mail': 21368,\n",
              " 'ramsey': 27815,\n",
              " 'goldengraphix': 16047,\n",
              " 'com': 9151,\n",
              " 'golden': 16046,\n",
              " 'graphix': 16201,\n",
              " '5110': 2171,\n",
              " 'azusa': 5903,\n",
              " 'canyon': 7827,\n",
              " 'rd': 27950,\n",
              " 'irwindale': 18848,\n",
              " 'ca': 7616,\n",
              " '91706': 3353,\n",
              " 'message': 22253,\n",
              " 'an': 4792,\n",
              " 'advertisement': 4128,\n",
              " 'solicitation': 31377,\n",
              " 'money': 22786,\n",
              " 'get': 15823,\n",
              " 'software': 31345,\n",
              " 'cds': 8142,\n",
              " 'compatibility': 9299,\n",
              " 'ain': 4355,\n",
              " 'great': 16224,\n",
              " 'grow': 16328,\n",
              " 'old': 24378,\n",
              " 'along': 4586,\n",
              " 'me': 22001,\n",
              " 'best': 6514,\n",
              " 'yet': 36968,\n",
              " 'tradgedies': 34050,\n",
              " 'finish': 14745,\n",
              " 'by': 7586,\n",
              " 'death': 10899,\n",
              " 'comedies': 9174,\n",
              " 'ended': 13228,\n",
              " 'marriage': 21706,\n",
              " 'nnews': 23794,\n",
              " 'hello': 16930,\n",
              " 'welcome': 36147,\n",
              " 'medzonline': 22087,\n",
              " 'sh': 30560,\n",
              " 'groundsel': 16319,\n",
              " 'op': 24503,\n",
              " 'pleased': 26145,\n",
              " 'introduce': 18659,\n",
              " 'ourselves': 24808,\n",
              " 'as': 5409,\n",
              " 'one': 24446,\n",
              " 'ieading': 17708,\n",
              " 'online': 24463,\n",
              " 'phar': 25779,\n",
              " 'felicitation': 14526,\n",
              " 'maceuticai': 21272,\n",
              " 'shops': 30772,\n",
              " 'helter': 16943,\n",
              " 'shakedown': 30571,\n",
              " 'cosmopolitan': 10106,\n",
              " 'blister': 6792,\n",
              " 'bestow': 6521,\n",
              " 'ag': 4237,\n",
              " 'ac': 3749,\n",
              " 'tosher': 33945,\n",
              " 'coadjutor': 8963,\n",
              " 'va': 35175,\n",
              " 'confidant': 9546,\n",
              " 'um': 34588,\n",
              " 'andmanyother': 4845,\n",
              " 'sav': 29911,\n",
              " 'inexpiable': 18176,\n",
              " 'over': 24889,\n",
              " '75': 2891,\n",
              " 'total': 33954,\n",
              " 'confide': 9547,\n",
              " 'leisure': 20491,\n",
              " 'ntiaiity': 24032,\n",
              " 'worldwide': 36643,\n",
              " 'polite': 26302,\n",
              " 'hlpplng': 17180,\n",
              " 'ov': 24883,\n",
              " 'allusion': 4570,\n",
              " 'er': 13559,\n",
              " 'miilion': 22438,\n",
              " 'customers': 10559,\n",
              " '150': 625,\n",
              " 'countries': 10156,\n",
              " 'devitalize': 11485,\n",
              " 'nice': 23684,\n",
              " 'day': 10835,\n",
              " 'hot': 17363,\n",
              " 'play': 26127,\n",
              " 'motion': 22925,\n",
              " 'homeland': 17257,\n",
              " 'security': 30248,\n",
              " 'investments': 18710,\n",
              " 'terror': 33364,\n",
              " 'attacks': 5626,\n",
              " 'on': 24435,\n",
              " 'united': 34820,\n",
              " 'states': 31981,\n",
              " 'september': 30422,\n",
              " '11': 426,\n",
              " '20': 901,\n",
              " 'ol': 24367,\n",
              " 'changed': 8334,\n",
              " 'landscape': 20209,\n",
              " 'foreseeable': 15046,\n",
              " 'future': 15479,\n",
              " 'both': 7009,\n",
              " 'physical': 25887,\n",
              " 'ogica': 24335,\n",
              " 'paramount': 25191,\n",
              " 'industry': 18149,\n",
              " 'segments': 30283,\n",
              " 'especia': 13685,\n",
              " 'banking': 6063,\n",
              " 'nationa': 23365,\n",
              " 'resource': 28849,\n",
              " 'government': 16122,\n",
              " 'sectors': 30235,\n",
              " 'according': 3818,\n",
              " 'giga': 15866,\n",
              " 'who': 36300,\n",
              " 'owned': 24982,\n",
              " 'subsidiary': 32413,\n",
              " 'forrester': 15112,\n",
              " 'research': 28774,\n",
              " 'woridwide': 36601,\n",
              " 'demand': 11160,\n",
              " 'services': 30467,\n",
              " 'set': 30481,\n",
              " 'eclipse': 12668,\n",
              " '46': 1975,\n",
              " '2005': 923,\n",
              " 'homeiand': 17254,\n",
              " 'newsietter': 23632,\n",
              " 'dedicated': 10998,\n",
              " 'providing': 27264,\n",
              " 'readers': 27979,\n",
              " 'pertaining': 25698,\n",
              " 'investment': 18709,\n",
              " 'opportunities': 24558,\n",
              " 'lucrative': 21173,\n",
              " 'sector': 30233,\n",
              " 'know': 19890,\n",
              " 'events': 13842,\n",
              " 'related': 28462,\n",
              " 'happen': 16634,\n",
              " 'lightning': 20698,\n",
              " 'speed': 31616,\n",
              " 'what': 36235,\n",
              " 'investors': 18712,\n",
              " 'can': 7777,\n",
              " 'position': 26436,\n",
              " 'such': 32462,\n",
              " 'current': 10521,\n",
              " 'trends': 34202,\n",
              " 'ready': 27988,\n",
              " 'capitalize': 7845,\n",
              " 'which': 36263,\n",
              " 'heip': 16906,\n",
              " 'just': 19485,\n",
              " 'mind': 22494,\n",
              " 'excitement': 13950,\n",
              " 'present': 26794,\n",
              " 'vinoble': 35577,\n",
              " 'inc': 17990,\n",
              " 'expected': 14051,\n",
              " 'big': 6616,\n",
              " 'things': 33546,\n",
              " 'near': 23443,\n",
              " 'ong': 24454,\n",
              " 'terms': 33342,\n",
              " 'symbol': 32843,\n",
              " 'vnbl': 35692,\n",
              " 'ob': 24128,\n",
              " 'price': 26869,\n",
              " '08': 290,\n",
              " 'short': 30778,\n",
              " 'term': 33324,\n",
              " 'target': 33051,\n",
              " '35': 1579,\n",
              " '12': 475,\n",
              " 'month': 22827,\n",
              " 'why': 36317,\n",
              " 'believe': 6380,\n",
              " 'give': 15917,\n",
              " 'returns': 28978,\n",
              " 'focus': 14952,\n",
              " 'rfid': 29072,\n",
              " 'radio': 27727,\n",
              " 'frequency': 15299,\n",
              " 'identification': 17681,\n",
              " 'technoiogy': 33161,\n",
              " 'technology': 33167,\n",
              " 'uses': 35105,\n",
              " 'tiny': 33741,\n",
              " 'sensors': 30393,\n",
              " 'transmit': 34126,\n",
              " 'about': 3692,\n",
              " 'person': 25664,\n",
              " 'object': 24140,\n",
              " 'wireiessly': 36462,\n",
              " 'aiready': 4366,\n",
              " 'pioneer': 25996,\n",
              " 'personal': 25670,\n",
              " 'location': 20926,\n",
              " 'developing': 11465,\n",
              " 'allows': 4562,\n",
              " 'companies': 9279,\n",
              " 'governments': 16124,\n",
              " 'wirelessly': 36465,\n",
              " 'track': 34023,\n",
              " 'their': 33468,\n",
              " 'assets': 5490,\n",
              " 'resources': 28852,\n",
              " 'has': 16718,\n",
              " 'huge': 17468,\n",
              " 'potentia': 26511,\n",
              " 'protection': 27228,\n",
              " 'transportation': 34137,\n",
              " 'materiais': 21792,\n",
              " 'designated': 11353,\n",
              " 'high': 17082,\n",
              " 'risk': 29182,\n",
              " 'were': 36187,\n",
              " 'they': 33532,\n",
              " 'fa': 14223,\n",
              " 'into': 18639,\n",
              " 'wrong': 36719,\n",
              " 'hands': 16602,\n",
              " 'works': 36624,\n",
              " 'integration': 18476,\n",
              " 'two': 34447,\n",
              " 'afore': 4219,\n",
              " 'mentioned': 22186,\n",
              " 'systems': 32883,\n",
              " 'create': 10275,\n",
              " 'space': 31505,\n",
              " 'ocaies': 24192,\n",
              " 'where': 36252,\n",
              " 'deemed': 11011,\n",
              " 'necessary': 23459,\n",
              " 'locations': 20928,\n",
              " 'may': 21864,\n",
              " 'airports': 4380,\n",
              " 'sea': 30155,\n",
              " 'ports': 26423,\n",
              " 'mines': 22508,\n",
              " 'nuciear': 24043,\n",
              " 'faciiities': 14243,\n",
              " 'stocks': 32146,\n",
              " 'news': 23625,\n",
              " 'drives': 12353,\n",
              " 'fresh': 15302,\n",
              " 'buy': 7561,\n",
              " 'malibu': 21470,\n",
              " 'calif': 7698,\n",
              " 'wire': 36459,\n",
              " 'june': 19468,\n",
              " '16': 666,\n",
              " 'oo': 24488,\n",
              " 'otcbb': 24771,\n",
              " 'holding': 17222,\n",
              " 'seeking': 30265,\n",
              " 'identify': 17686,\n",
              " 'growth': 16334,\n",
              " 'areas': 5277,\n",
              " 'other': 24776,\n",
              " 'announced': 4955,\n",
              " 'today': 33816,\n",
              " 'pians': 25902,\n",
              " 'wiil': 36362,\n",
              " 'assist': 5502,\n",
              " 'automation': 5776,\n",
              " 'control': 9875,\n",
              " 'equipment': 13546,\n",
              " 'toois': 33896,\n",
              " 'processes': 27007,\n",
              " 'used': 35089,\n",
              " 'oi': 24344,\n",
              " 'gas': 15603,\n",
              " 'petrochemical': 25729,\n",
              " 'industries': 18148,\n",
              " 'although': 4632,\n",
              " 'smail': 31209,\n",
              " 'networked': 23581,\n",
              " 'monitor': 22797,\n",
              " 'machines': 21282,\n",
              " 'detect': 11415,\n",
              " 'possible': 26460,\n",
              " 'problems': 26990,\n",
              " 'before': 6325,\n",
              " 'serious': 30446,\n",
              " 'aiso': 4389,\n",
              " 'deiiver': 11088,\n",
              " 'safety': 29722,\n",
              " 'features': 14483,\n",
              " 'welis': 36157,\n",
              " 'maybe': 21866,\n",
              " 'trapped': 34144,\n",
              " 'different': 11600,\n",
              " 'ayers': 5890,\n",
              " 'rock': 29329,\n",
              " 'aiong': 4359,\n",
              " 'water': 35971,\n",
              " 'detection': 11419,\n",
              " 'specific': 31589,\n",
              " 'iquids': 18808,\n",
              " 'operating': 24527,\n",
              " 'precise': 26692,\n",
              " 'opportune': 24555,\n",
              " 'moment': 22767,\n",
              " 'ensure': 13400,\n",
              " 'certain': 8239,\n",
              " 'adverse': 4124,\n",
              " 'conditions': 9503,\n",
              " 'occur': 24210,\n",
              " 'well': 36158,\n",
              " 'filiing': 14662,\n",
              " 'rf': 29068,\n",
              " 'based': 6151,\n",
              " 'applications': 5148,\n",
              " 'also': 4605,\n",
              " 'safe': 29715,\n",
              " 'transit': 34115,\n",
              " 'only': 24464,\n",
              " 'authorized': 5753,\n",
              " 'handler': 16593,\n",
              " 'limit': 20727,\n",
              " 'entry': 13464,\n",
              " 'personne': 25682,\n",
              " 'ocations': 24197,\n",
              " 'ensuring': 13403,\n",
              " 'personnel': 25683,\n",
              " 'essential': 13705,\n",
              " 'should': 30801,\n",
              " 'there': 33497,\n",
              " 'emergency': 13095,\n",
              " 'faciiity': 14244,\n",
              " 'tags': 32942,\n",
              " 'wouid': 36664,\n",
              " 'enabie': 13179,\n",
              " 'customer': 10557,\n",
              " 'evaiuate': 13810,\n",
              " 'empioyee': 13146,\n",
              " 'danger': 10723,\n",
              " 'application': 5147,\n",
              " 'requires': 28746,\n",
              " 'product': 27029,\n",
              " 'hardware': 16670,\n",
              " 'operate': 24522,\n",
              " 'harsh': 16702,\n",
              " 'hazardous': 16784,\n",
              " 'gives': 15919,\n",
              " 'valuable': 35246,\n",
              " 'vita': 35654,\n",
              " 'supply': 32615,\n",
              " 'chain': 8291,\n",
              " 'tracking': 34027,\n",
              " 'chemica': 8458,\n",
              " 'extraction': 14189,\n",
              " 'refining': 28298,\n",
              " 'saie': 29735,\n",
              " 'retai': 28931,\n",
              " 'evel': 13830,\n",
              " 'viewpoint': 35537,\n",
              " 'previousiy': 26860,\n",
              " 'stated': 31978,\n",
              " 'these': 33519,\n",
              " 'than': 33432,\n",
              " 'vaiuable': 35206,\n",
              " 'too': 33894,\n",
              " 'mining': 22521,\n",
              " 'protective': 27230,\n",
              " 'measure': 22026,\n",
              " 'country': 10157,\n",
              " 'natura': 23379,\n",
              " 'commodities': 9248,\n",
              " 'against': 4240,\n",
              " 'threat': 33601,\n",
              " 'preservation': 26809,\n",
              " 'fueis': 15392,\n",
              " 'important': 17921,\n",
              " 'economy': 12698,\n",
              " 'believes': 6383,\n",
              " 'offering': 24287,\n",
              " 'service': 30466,\n",
              " 'appiication': 5134,\n",
              " 'oil': 24346,\n",
              " 'wil': 36363,\n",
              " 'further': 15467,\n",
              " 'rapidly': 27856,\n",
              " 'expanding': 14038,\n",
              " 'whiie': 36267,\n",
              " 'taking': 32976,\n",
              " 'access': 3780,\n",
              " 'increasing': 18052,\n",
              " 'capital': 7841,\n",
              " 'gioba': 15900,\n",
              " 'spending': 31636,\n",
              " 'wi': 36318,\n",
              " 'require': 28741,\n",
              " 'goal': 16013,\n",
              " 'needed': 23472,\n",
              " 'cost': 10108,\n",
              " 'manageable': 21495,\n",
              " 'sma': 31207,\n",
              " 'est': 13711,\n",
              " 'businesses': 7532,\n",
              " 'afford': 4209,\n",
              " 'state': 31977,\n",
              " 'constant': 9720,\n",
              " 'potential': 26513,\n",
              " 'exceptional': 13930,\n",
              " 'already': 4601,\n",
              " 'stands': 31929,\n",
              " 'out': 24810,\n",
              " 'truiy': 34301,\n",
              " 'innovative': 18328,\n",
              " 'happening': 16637,\n",
              " 'emai': 13046,\n",
              " 'contains': 9791,\n",
              " 'forward': 15139,\n",
              " 'looking': 21012,\n",
              " 'statements': 31980,\n",
              " 'meaning': 22011,\n",
              " 'section': 30231,\n",
              " '27': 1208,\n",
              " 'securities': 30242,\n",
              " 'act': 3901,\n",
              " '1933': 819,\n",
              " '21': 973,\n",
              " 'exchange': 13941,\n",
              " '1934': 820,\n",
              " 'any': 5050,\n",
              " 'express': 14149,\n",
              " 'involve': 18739,\n",
              " 'discussions': 11825,\n",
              " 'respect': 28853,\n",
              " 'predictions': 26713,\n",
              " 'expectations': 14050,\n",
              " 'beliefs': 6377,\n",
              " 'projections': 27121,\n",
              " 'objectives': 24146,\n",
              " 'goals': 16014,\n",
              " 'assumptions': 5531,\n",
              " 'performance': 25604,\n",
              " 'historica': 17155,\n",
              " 'fact': 14259,\n",
              " 'ooking': 24494,\n",
              " 'estimates': 13734,\n",
              " 'invoive': 18730,\n",
              " 'number': 24055,\n",
              " 'risks': 29207,\n",
              " 'uncertainties': 34643,\n",
              " 'couid': 10128,\n",
              " 'cause': 8081,\n",
              " 'actua': 3916,\n",
              " 'results': 28918,\n",
              " 'differ': 11596,\n",
              " 'materia': 21790,\n",
              " 'those': 33588,\n",
              " 'presently': 26807,\n",
              " 'anticipated': 5014,\n",
              " 'action': 3905,\n",
              " 'identified': 17682,\n",
              " 'words': 36598,\n",
              " 'projects': 27124,\n",
              " 'foresee': 15044,\n",
              " 'expects': 14053,\n",
              " 'anticipates': 5015,\n",
              " 'beiieves': 6355,\n",
              " 'understands': 34718,\n",
              " 'indicating': 18110,\n",
              " 'actions': 3906,\n",
              " 'might': 22423,\n",
              " 'many': 21591,\n",
              " 'micro': 22381,\n",
              " 'cap': 7829,\n",
              " 'factors': 14264,\n",
              " 'worth': 36655,\n",
              " 'noting': 23970,\n",
              " 'inciude': 18007,\n",
              " 'history': 17159,\n",
              " 'advancing': 4115,\n",
              " 'cash': 7985,\n",
              " 'reiated': 28413,\n",
              " 'parties': 25270,\n",
              " 'shareholder': 30613,\n",
              " 'unsecured': 34915,\n",
              " 'basis': 6168,\n",
              " 'vendor': 35377,\n",
              " 'party': 25285,\n",
              " 'majority': 21437,\n",
              " 'stockhoider': 32139,\n",
              " 'supplies': 32614,\n",
              " 'ninety': 23756,\n",
              " 'seven': 30503,\n",
              " 'percent': 25583,\n",
              " 'raw': 27915,\n",
              " 'reiiance': 28423,\n",
              " 'fifty': 14637,\n",
              " 'numerous': 24070,\n",
              " 'transactions': 34090,\n",
              " 'need': 23471,\n",
              " 'raise': 27772,\n",
              " 'others': 24778,\n",
              " 'fuily': 15402,\n",
              " 'speiled': 31625,\n",
              " 'sec': 30204,\n",
              " 'fiiings': 14648,\n",
              " 'urge': 35050,\n",
              " 'read': 27975,\n",
              " 'filings': 14664,\n",
              " 'invest': 18695,\n",
              " 'rocket': 29334,\n",
              " 'report': 28676,\n",
              " 'does': 12082,\n",
              " 'represent': 28693,\n",
              " 'contained': 9786,\n",
              " 'ail': 4339,\n",
              " 'facts': 14266,\n",
              " 'omit': 24425,\n",
              " 'material': 21793,\n",
              " 'therein': 33503,\n",
              " 'misleading': 22578,\n",
              " 'investing': 18707,\n",
              " 'must': 23166,\n",
              " 'understood': 34721,\n",
              " 'advice': 4135,\n",
              " 'advises': 4143,\n",
              " 'subscribers': 32401,\n",
              " 'seek': 30261,\n",
              " 'registered': 28373,\n",
              " 'professiona': 27044,\n",
              " 'representative': 28698,\n",
              " 'deciding': 10952,\n",
              " 'trade': 34035,\n",
              " 'featured': 14482,\n",
              " 'email': 13047,\n",
              " 'none': 23863,\n",
              " 'shal': 30576,\n",
              " 'construed': 9747,\n",
              " 'kind': 19791,\n",
              " 'verge': 35410,\n",
              " 'bankruptcy': 6068,\n",
              " 'lose': 21059,\n",
              " 'publisher': 27387,\n",
              " 'advisor': 4145,\n",
              " 'view': 35532,\n",
              " 'herein': 16993,\n",
              " 'ega': 12841,\n",
              " 'tax': 33090,\n",
              " 'accounting': 3827,\n",
              " 'reference': 28271,\n",
              " 'past': 25315,\n",
              " 'speciaily': 31569,\n",
              " 'seiected': 30299,\n",
              " 'referenced': 28272,\n",
              " 'favorabie': 14422,\n",
              " 'perfect': 25594,\n",
              " 'timing': 33723,\n",
              " 'achieve': 3861,\n",
              " 'resuits': 28912,\n",
              " 'exampies': 13902,\n",
              " 'given': 15918,\n",
              " 'assurance': 5533,\n",
              " 'remember': 28542,\n",
              " 'aiways': 4394,\n",
              " 'never': 23601,\n",
              " 'indicative': 18113,\n",
              " 'thorough': 33584,\n",
              " 'due': 12420,\n",
              " 'diiigence': 11632,\n",
              " 'effort': 12829,\n",
              " 'including': 18018,\n",
              " 'review': 29017,\n",
              " 'shouid': 30800,\n",
              " 'completed': 9347,\n",
              " 'prior': 26925,\n",
              " 'compiiance': 9330,\n",
              " '17': 703,\n",
              " 'discioses': 11756,\n",
              " 'receipt': 28086,\n",
              " 'tweive': 34430,\n",
              " 'thousand': 33595,\n",
              " 'doilars': 12094,\n",
              " 'third': 33554,\n",
              " 'gem': 15696,\n",
              " 'officer': 24295,\n",
              " 'director': 11704,\n",
              " 'affiliate': 4194,\n",
              " 'sharehoider': 30611,\n",
              " 'circuiation': 8690,\n",
              " 'se': 30154,\n",
              " 'notice': 23958,\n",
              " 'aware': 5863,\n",
              " 'inherent': 18278,\n",
              " 'confiict': 9570,\n",
              " 'interest': 18538,\n",
              " 'resuiting': 28911,\n",
              " 'compensation': 9310,\n",
              " 'paid': 25067,\n",
              " 'conflicted': 9585,\n",
              " 'al': 4418,\n",
              " 'factua': 14268,\n",
              " 'was': 35946,\n",
              " 'gathered': 15617,\n",
              " 'pubiic': 27370,\n",
              " 'sources': 31481,\n",
              " 'inciuding': 18009,\n",
              " 'websites': 36083,\n",
              " 'press': 26815,\n",
              " 'releases': 28483,\n",
              " 'reliabie': 28490,\n",
              " 'guarantee': 16380,\n",
              " 'accuracy': 3844,\n",
              " 'compieteness': 9329,\n",
              " 'constitutes': 9732,\n",
              " 'acceptance': 3772,\n",
              " 'save': 29914,\n",
              " 'getting': 15827,\n",
              " 'thing': 33544,\n",
              " 'tried': 34230,\n",
              " 'cialls': 8640,\n",
              " 'cannot': 7815,\n",
              " 'imagine': 17824,\n",
              " 'real': 27995,\n",
              " 'man': 21490,\n",
              " 'bed': 6302,\n",
              " 'errrectlon': 13627,\n",
              " 'exactiy': 13890,\n",
              " 'when': 36249,\n",
              " 'want': 35894,\n",
              " 'cialis': 8639,\n",
              " 'lot': 21069,\n",
              " 'advantages': 4119,\n",
              " 'viagra': 35486,\n",
              " 'effect': 12812,\n",
              " 'iasts': 17620,\n",
              " '36': 1634,\n",
              " 'hours': 17382,\n",
              " 'start': 31957,\n",
              " '10': 342,\n",
              " 'minutes': 22542,\n",
              " 'mix': 22630,\n",
              " 'aicohol': 4322,\n",
              " 'ship': 30715,\n",
              " 'right': 29145,\n",
              " 'undeliverable': 34672,\n",
              " 'grownups': 16332,\n",
              " 'sent': 30396,\n",
              " 'sun': 32543,\n",
              " 'jan': 19039,\n",
              " '2001': 912,\n",
              " '09': 307,\n",
              " '24': 1098,\n",
              " '0100': 93,\n",
              " 'did': 11569,\n",
              " 'reach': 27961,\n",
              " 'following': 14979,\n",
              " 'recipient': 28124,\n",
              " 'tfi': 33407,\n",
              " 'kpn': 19982,\n",
              " 'mon': 22772,\n",
              " '25': 1140,\n",
              " 'feb': 14486,\n",
              " '2002': 918,\n",
              " '13': 528,\n",
              " '32': 1422,\n",
              " '23': 1058,\n",
              " 'name': 23283,\n",
              " 'recognized': 28141,\n",
              " 'mts': 23049,\n",
              " 'id': 17660,\n",
              " 'us': 35070,\n",
              " 'ptt': 27364,\n",
              " 'telecom': 33200,\n",
              " 'mtpi': 23048,\n",
              " '70590202251232': 2754,\n",
              " 'fjt': 14823,\n",
              " 'msexch': 23018,\n",
              " 'ims': 17964,\n",
              " '7059': 2753,\n",
              " '000': 1,\n",
              " 'co': 8957,\n",
              " 'unknown': 34842,\n",
              " 'lasts': 20261,\n",
              " 'aicohoi': 4321,\n",
              " 'las': 20244,\n",
              " 'vegas': 35359,\n",
              " 'rise': 29175,\n",
              " 'boom': 6967,\n",
              " 'fast': 14393,\n",
              " 'becoming': 6299,\n",
              " 'major': 21434,\n",
              " 'metropolitan': 22319,\n",
              " 'city': 8730,\n",
              " '60': 2453,\n",
              " 'towers': 33993,\n",
              " 'built': 7432,\n",
              " 'around': 5349,\n",
              " 'strip': 32271,\n",
              " 'next': 23654,\n",
              " 'years': 36948,\n",
              " '30': 1325,\n",
              " 'condominiums': 9505,\n",
              " 'begun': 6337,\n",
              " 'first': 14783,\n",
              " 'early': 12586,\n",
              " 'phase': 25810,\n",
              " 'construction': 9744,\n",
              " 'pricing': 26880,\n",
              " 'available': 5808,\n",
              " 'rises': 29178,\n",
              " 'trump': 34303,\n",
              " 'mgm': 22343,\n",
              " 'turnberry': 34397,\n",
              " 'icon': 17650,\n",
              " 'sky': 31116,\n",
              " 'among': 4749,\n",
              " 'join': 19321,\n",
              " 'http': 17449,\n",
              " 'www': 36776,\n",
              " 'verticallv': 35448,\n",
              " 'realty': 28032,\n",
              " 'highrise': 17096,\n",
              " 'learn': 20416,\n",
              " 'comif': 9188,\n",
              " 'wish': 36480,\n",
              " 'excluded': 13955,\n",
              " 'mailings': 21391,\n",
              " 'please': 26144,\n",
              " 'reply': 28668,\n",
              " 'word': 36593,\n",
              " 'remove': 28566,\n",
              " 'line': 20750,\n",
              " 'exactly': 13891,\n",
              " 'ciaiis': 8637,\n",
              " 'iot': 18777,\n",
              " 'advantaqes': 4120,\n",
              " 'riqht': 29172,\n",
              " 'brighten': 7245,\n",
              " 'teeth': 33179,\n",
              " 'bright': 7244,\n",
              " 'white': 36285,\n",
              " 'considered': 9686,\n",
              " 'professional': 27047,\n",
              " 'whitening': 36291,\n",
              " 'if': 17717,\n",
              " 'so': 31304,\n",
              " 'usually': 35126,\n",
              " 'costs': 10118,\n",
              " ...}"
            ]
          },
          "metadata": {
            "tags": []
          },
          "execution_count": 62
        }
      ]
    },
    {
      "cell_type": "code",
      "metadata": {
        "colab": {
          "base_uri": "https://localhost:8080/"
        },
        "id": "Bw3HySTRNwGN",
        "outputId": "d64d17e1-1906-4836-fde6-7bd87b27b911"
      },
      "source": [
        "x = spam_countvectorizer.toarray()\n",
        "x"
      ],
      "execution_count": 63,
      "outputs": [
        {
          "output_type": "execute_result",
          "data": {
            "text/plain": [
              "array([[0, 0, 0, ..., 0, 0, 0],\n",
              "       [0, 0, 0, ..., 0, 0, 0],\n",
              "       [0, 0, 0, ..., 0, 0, 0],\n",
              "       ...,\n",
              "       [4, 0, 0, ..., 0, 0, 0],\n",
              "       [0, 0, 0, ..., 0, 0, 0],\n",
              "       [0, 0, 0, ..., 0, 0, 0]])"
            ]
          },
          "metadata": {
            "tags": []
          },
          "execution_count": 63
        }
      ]
    },
    {
      "cell_type": "code",
      "metadata": {
        "colab": {
          "base_uri": "https://localhost:8080/"
        },
        "id": "FNpAhL1Rm6Q1",
        "outputId": "93ab8f02-b008-43bf-c229-4c88693aca36"
      },
      "source": [
        "y = df['spam']\n",
        "y"
      ],
      "execution_count": 64,
      "outputs": [
        {
          "output_type": "execute_result",
          "data": {
            "text/plain": [
              "0       1\n",
              "1       1\n",
              "2       1\n",
              "3       1\n",
              "4       1\n",
              "       ..\n",
              "6373    0\n",
              "6374    0\n",
              "6375    0\n",
              "6376    0\n",
              "6377    0\n",
              "Name: spam, Length: 6378, dtype: int64"
            ]
          },
          "metadata": {
            "tags": []
          },
          "execution_count": 64
        }
      ]
    },
    {
      "cell_type": "markdown",
      "metadata": {
        "id": "lrIa3g49N3ck"
      },
      "source": [
        "**Model Training**"
      ]
    },
    {
      "cell_type": "code",
      "metadata": {
        "id": "x22_93DUp8oC"
      },
      "source": [
        "from sklearn.model_selection import train_test_split\n",
        "x_train, x_test, y_train, y_test = train_test_split(x, y, test_size=0.25, random_state=0)"
      ],
      "execution_count": 65,
      "outputs": []
    },
    {
      "cell_type": "code",
      "metadata": {
        "colab": {
          "base_uri": "https://localhost:8080/"
        },
        "id": "mkcbIhuON6AJ",
        "outputId": "08816dca-cac1-46c3-d5b8-b28d2858bb43"
      },
      "source": [
        "from sklearn.naive_bayes import GaussianNB\n",
        "nbc = GaussianNB()\n",
        "nbc.fit(x_train, y_train)"
      ],
      "execution_count": 66,
      "outputs": [
        {
          "output_type": "execute_result",
          "data": {
            "text/plain": [
              "GaussianNB(priors=None, var_smoothing=1e-09)"
            ]
          },
          "metadata": {
            "tags": []
          },
          "execution_count": 66
        }
      ]
    },
    {
      "cell_type": "markdown",
      "metadata": {
        "id": "jM5yF31KOlU1"
      },
      "source": [
        "**Prediction**"
      ]
    },
    {
      "cell_type": "code",
      "metadata": {
        "colab": {
          "base_uri": "https://localhost:8080/"
        },
        "id": "Jw3ap6YhnwPY",
        "outputId": "d3225951-f627-446c-cd4d-2beaff637f1a"
      },
      "source": [
        "y_pred = nbc.predict(x_test)\n",
        "y_pred"
      ],
      "execution_count": 67,
      "outputs": [
        {
          "output_type": "execute_result",
          "data": {
            "text/plain": [
              "array([1, 0, 0, ..., 0, 0, 0])"
            ]
          },
          "metadata": {
            "tags": []
          },
          "execution_count": 67
        }
      ]
    },
    {
      "cell_type": "markdown",
      "metadata": {
        "id": "J54cfbIdOxgY"
      },
      "source": [
        "**Evaluation**"
      ]
    },
    {
      "cell_type": "code",
      "metadata": {
        "colab": {
          "base_uri": "https://localhost:8080/"
        },
        "id": "03BiwBmnN55e",
        "outputId": "f7006938-3250-4764-e1fc-a1b2c841001b"
      },
      "source": [
        "from sklearn.metrics import accuracy_score, confusion_matrix as cm\n",
        "print('Accuracy: ', accuracy_score(y_test, y_pred)*100)"
      ],
      "execution_count": 68,
      "outputs": [
        {
          "output_type": "stream",
          "text": [
            "Accuracy:  96.55172413793103\n"
          ],
          "name": "stdout"
        }
      ]
    },
    {
      "cell_type": "code",
      "metadata": {
        "colab": {
          "base_uri": "https://localhost:8080/"
        },
        "id": "UgvdU_HwN5z5",
        "outputId": "4859b523-783c-43b0-aec0-4be7e5c4f888"
      },
      "source": [
        "from sklearn.metrics import classification_report\n",
        "print(classification_report(y_test, y_pred))"
      ],
      "execution_count": 69,
      "outputs": [
        {
          "output_type": "stream",
          "text": [
            "              precision    recall  f1-score   support\n",
            "\n",
            "           0       0.97      0.99      0.98      1266\n",
            "           1       0.96      0.87      0.91       329\n",
            "\n",
            "    accuracy                           0.97      1595\n",
            "   macro avg       0.96      0.93      0.95      1595\n",
            "weighted avg       0.97      0.97      0.96      1595\n",
            "\n"
          ],
          "name": "stdout"
        }
      ]
    },
    {
      "cell_type": "markdown",
      "metadata": {
        "id": "ctmaqobSuBX5"
      },
      "source": [
        "**Testing**"
      ]
    },
    {
      "cell_type": "code",
      "metadata": {
        "id": "Ok7kvKJ5N573"
      },
      "source": [
        "testing_sample = ['Hi Kin, do you have a charger?', 'Free money!!!']\n",
        "testing_sample_countvectorizer = vectorizer.transform(testing_sample)"
      ],
      "execution_count": 70,
      "outputs": []
    },
    {
      "cell_type": "code",
      "metadata": {
        "colab": {
          "base_uri": "https://localhost:8080/"
        },
        "id": "wHMILKUtuEm2",
        "outputId": "a1eb59fc-7cab-4446-9743-9abc05707533"
      },
      "source": [
        "nbc.predict(testing_sample_countvectorizer.toarray())"
      ],
      "execution_count": 71,
      "outputs": [
        {
          "output_type": "execute_result",
          "data": {
            "text/plain": [
              "array([0, 1])"
            ]
          },
          "metadata": {
            "tags": []
          },
          "execution_count": 71
        }
      ]
    },
    {
      "cell_type": "code",
      "metadata": {
        "id": "SZ-ptWrEuN1s"
      },
      "source": [
        ""
      ],
      "execution_count": 71,
      "outputs": []
    }
  ]
}